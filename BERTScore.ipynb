{
 "cells": [
  {
   "cell_type": "markdown",
   "id": "25008c33",
   "metadata": {},
   "source": [
    "### **How BERTScore Relates to Pretrained Models**\n",
    "1. **Pretrained Model as Backbone:**\n",
    "   - **BERTScore** uses the embeddings (contextualized word representations) from a pretrained transformer model, such as **BERT**, **RoBERTa**, or other similar models.\n",
    "   - For example, in your case, BERTScore is using **RoBERTa-large**, a transformer model that has already been trained on large-scale datasets for language understanding.\n",
    "\n",
    "2. **No Further Training:**\n",
    "   - BERTScore doesn’t require additional training or fine-tuning. It directly uses the embeddings from the pretrained model to calculate **semantic similarity** between pairs of sentences (e.g., hypotheses and references).\n",
    "\n",
    "3. **How BERTScore Works:**\n",
    "   - For each sentence pair (hypothesis and reference):\n",
    "     1. **Token Embedding Extraction**:\n",
    "        - Extracts contextualized embeddings for each token in the sentences using the pretrained model.\n",
    "     2. **Pairwise Similarity**:\n",
    "        - Computes the cosine similarity between each token in the hypothesis and each token in the reference.\n",
    "     3. **Aggregation**:\n",
    "        - Matches each token in one sentence to the most similar token in the other sentence.\n",
    "        - Aggregates the similarity scores to calculate **precision**, **recall**, and **F1-score**.\n",
    "\n",
    "4. **Pretrained Models Supported by BERTScore:**\n",
    "   - You can specify different pretrained models for BERTScore, such as:\n",
    "     - `bert-base-uncased`\n",
    "     - `roberta-large`\n",
    "     - `xlm-roberta-large`\n",
    "   - The choice of the model affects the quality of the similarity scores.\n",
    "\n",
    "---\n",
    "\n",
    "### **Key Characteristics of BERTScore**\n",
    "- **Uses Pretrained Models**: It relies on embeddings from transformers like BERT or RoBERTa.\n",
    "- **No Training Required**: It directly computes similarity using pretrained embeddings.\n",
    "- **Task-Agnostic**: BERTScore is not task-specific and evaluates general semantic similarity between texts.\n",
    "\n",
    "---\n",
    "\n",
    "### **Why BERTScore is Pretrained but Not a Standalone Model**\n",
    "- **Pretrained**: Because it uses embeddings from models like RoBERTa, which were trained on massive corpora.\n",
    "- **Not Standalone**: It doesn’t include a classification layer or trainable parameters. Instead, it computes similarity scores based on the existing knowledge of the pretrained model.\n"
   ]
  },
  {
   "cell_type": "markdown",
   "id": "fbbd3b6f",
   "metadata": {},
   "source": [
    "**BERTScore**\n",
    "- Instead of looking at the words like a dictionary, BERT looks at them **in context**.\n",
    "  - For example:\n",
    "    - \"cat\" and \"feline\" are very similar because they mean the same thing.\n",
    "    - \"mat\" and \"rug\" are similar because they’re both things you can lie on.\n",
    "- BERT reads the whole sentence and understands how words relate to each other.\n",
    "  - Example:\n",
    "    - \"The cat is sleeping\" vs. \"The feline is resting.\"\n",
    "    - BERT knows \"sleeping\" and \"resting\" mean similar things in this sentence.\n",
    "- For every word in the **hypothesis**, BERT tries to match it to the **most similar word** in the reference.\n",
    "  - Example:\n",
    "    - \"cat\" matches \"feline.\"\n",
    "    - \"mat\" matches \"rug.\"\n",
    "    - \"sleeping\" matches \"resting.\"\n",
    "- BERT calculates a similarity score for each word pair. It adds up these scores and finds the **average similarity**.\n",
    "  - If the words and their meanings match really well, the score will be close to **1.0**.\n",
    "  - If they don’t match at all, the score will be closer to **0.0**.\n",
    "- BERT does this matching in two directions:\n",
    "  1. **Hypothesis → Reference**: How well the hypothesis covers the reference.\n",
    "  2. **Reference → Hypothesis**: How well the reference covers the hypothesis.\n",
    "- Then, it calculates:\n",
    "  - **Precision**: How much of the hypothesis is correct.\n",
    "  - **Recall**: How much of the reference is captured.\n",
    "  - **F1-Score**: A balance of precision and recall (the final BERTScore!)."
   ]
  },
  {
   "cell_type": "markdown",
   "id": "6e6b207d",
   "metadata": {},
   "source": [
    "**Apply BERTScore to the Validation Dataset**\n",
    "1. **Determine the Threshold for Classification:**\n",
    "   - In our task, we're using **BERTScore** to compute similarity between `hypotheses` and `references`.\n",
    "   - To classify hallucinations, you need a **threshold** for the `F1` score (e.g., `0.8`). \n",
    "   - The **validation dataset** is used to find this threshold:\n",
    "     - Experiment with different thresholds on the validation set to see which value best separates hallucinations from non-hallucinations.\n",
    "     - For example, a lower threshold (e.g., `0.7`) might capture subtle hallucinations, while a higher one (e.g., `0.85`) might catch only severe ones.\n",
    "\n",
    "2. **Evaluate BERTScore’s Performance:**\n",
    "   - By applying BERTScore to the validation set, you can measure how well the chosen threshold aligns with the true labels (`label` column).\n",
    "   - This helps validate the approach before applying it to the test dataset.\n",
    "\n",
    "3. **Refining for Specific Tasks:**\n",
    "   - Even though BERTScore is pretrained, the similarity scores it produces can behave differently across tasks or datasets.\n",
    "   - Applying it to the validation set helps ensure its effectiveness in your specific context of hallucination detection.\n"
   ]
  },
  {
   "cell_type": "code",
   "execution_count": 6,
   "id": "5189f94a",
   "metadata": {},
   "outputs": [
    {
     "name": "stderr",
     "output_type": "stream",
     "text": [
      "Some weights of RobertaModel were not initialized from the model checkpoint at roberta-large and are newly initialized: ['roberta.pooler.dense.bias', 'roberta.pooler.dense.weight']\n",
      "You should probably TRAIN this model on a down-stream task to be able to use it for predictions and inference.\n"
     ]
    },
    {
     "name": "stdout",
     "output_type": "stream",
     "text": [
      "calculating scores...\n",
      "computing bert embedding.\n"
     ]
    },
    {
     "data": {
      "application/json": {
       "ascii": false,
       "bar_format": null,
       "colour": null,
       "elapsed": 0.007000446319580078,
       "initial": 0,
       "n": 0,
       "ncols": null,
       "nrows": null,
       "postfix": null,
       "prefix": "",
       "rate": null,
       "total": 4,
       "unit": "it",
       "unit_divisor": 1000,
       "unit_scale": false
      },
      "application/vnd.jupyter.widget-view+json": {
       "model_id": "8211f4f17aea42c28ec34fff2ad999b6",
       "version_major": 2,
       "version_minor": 0
      },
      "text/plain": [
       "  0%|          | 0/4 [00:00<?, ?it/s]"
      ]
     },
     "metadata": {},
     "output_type": "display_data"
    },
    {
     "name": "stdout",
     "output_type": "stream",
     "text": [
      "computing greedy matching.\n"
     ]
    },
    {
     "data": {
      "application/json": {
       "ascii": false,
       "bar_format": null,
       "colour": null,
       "elapsed": 0.006999492645263672,
       "initial": 0,
       "n": 0,
       "ncols": null,
       "nrows": null,
       "postfix": null,
       "prefix": "",
       "rate": null,
       "total": 2,
       "unit": "it",
       "unit_divisor": 1000,
       "unit_scale": false
      },
      "application/vnd.jupyter.widget-view+json": {
       "model_id": "41dc98c404134a0597e1a2ffc3f6af15",
       "version_major": 2,
       "version_minor": 0
      },
      "text/plain": [
       "  0%|          | 0/2 [00:00<?, ?it/s]"
      ]
     },
     "metadata": {},
     "output_type": "display_data"
    },
    {
     "name": "stdout",
     "output_type": "stream",
     "text": [
      "done in 4.07 seconds, 30.74 sentences/sec\n",
      "Best threshold for PG based on validation F1-score: 0.9\n"
     ]
    },
    {
     "name": "stderr",
     "output_type": "stream",
     "text": [
      "C:\\Users\\Admin\\anaconda3\\envs\\testenv\\lib\\site-packages\\sklearn\\metrics\\_classification.py:1471: UndefinedMetricWarning: Precision and F-score are ill-defined and being set to 0.0 due to no predicted samples. Use `zero_division` parameter to control this behavior.\n",
      "  _warn_prf(average, modifier, msg_start, len(result))\n",
      "C:\\Users\\Admin\\anaconda3\\envs\\testenv\\lib\\site-packages\\sklearn\\metrics\\_classification.py:1471: UndefinedMetricWarning: Precision and F-score are ill-defined and being set to 0.0 due to no predicted samples. Use `zero_division` parameter to control this behavior.\n",
      "  _warn_prf(average, modifier, msg_start, len(result))\n",
      "C:\\Users\\Admin\\anaconda3\\envs\\testenv\\lib\\site-packages\\sklearn\\metrics\\_classification.py:1471: UndefinedMetricWarning: Precision and F-score are ill-defined and being set to 0.0 due to no predicted samples. Use `zero_division` parameter to control this behavior.\n",
      "  _warn_prf(average, modifier, msg_start, len(result))\n",
      "C:\\Users\\Admin\\anaconda3\\envs\\testenv\\lib\\site-packages\\sklearn\\metrics\\_classification.py:1471: UndefinedMetricWarning: Precision and F-score are ill-defined and being set to 0.0 due to no predicted samples. Use `zero_division` parameter to control this behavior.\n",
      "  _warn_prf(average, modifier, msg_start, len(result))\n",
      "C:\\Users\\Admin\\anaconda3\\envs\\testenv\\lib\\site-packages\\sklearn\\metrics\\_classification.py:1471: UndefinedMetricWarning: Precision and F-score are ill-defined and being set to 0.0 due to no predicted samples. Use `zero_division` parameter to control this behavior.\n",
      "  _warn_prf(average, modifier, msg_start, len(result))\n",
      "C:\\Users\\Admin\\anaconda3\\envs\\testenv\\lib\\site-packages\\sklearn\\metrics\\_classification.py:1471: UndefinedMetricWarning: Precision and F-score are ill-defined and being set to 0.0 due to no predicted samples. Use `zero_division` parameter to control this behavior.\n",
      "  _warn_prf(average, modifier, msg_start, len(result))\n",
      "C:\\Users\\Admin\\anaconda3\\envs\\testenv\\lib\\site-packages\\sklearn\\metrics\\_classification.py:1471: UndefinedMetricWarning: Precision and F-score are ill-defined and being set to 0.0 due to no predicted samples. Use `zero_division` parameter to control this behavior.\n",
      "  _warn_prf(average, modifier, msg_start, len(result))\n",
      "C:\\Users\\Admin\\anaconda3\\envs\\testenv\\lib\\site-packages\\sklearn\\metrics\\_classification.py:1471: UndefinedMetricWarning: Precision and F-score are ill-defined and being set to 0.0 due to no predicted samples. Use `zero_division` parameter to control this behavior.\n",
      "  _warn_prf(average, modifier, msg_start, len(result))\n",
      "C:\\Users\\Admin\\anaconda3\\envs\\testenv\\lib\\site-packages\\sklearn\\metrics\\_classification.py:1471: UndefinedMetricWarning: Precision and F-score are ill-defined and being set to 0.0 due to no predicted samples. Use `zero_division` parameter to control this behavior.\n",
      "  _warn_prf(average, modifier, msg_start, len(result))\n",
      "C:\\Users\\Admin\\anaconda3\\envs\\testenv\\lib\\site-packages\\sklearn\\metrics\\_classification.py:1471: UndefinedMetricWarning: Precision and F-score are ill-defined and being set to 0.0 due to no predicted samples. Use `zero_division` parameter to control this behavior.\n",
      "  _warn_prf(average, modifier, msg_start, len(result))\n",
      "C:\\Users\\Admin\\anaconda3\\envs\\testenv\\lib\\site-packages\\sklearn\\metrics\\_classification.py:1471: UndefinedMetricWarning: Precision and F-score are ill-defined and being set to 0.0 due to no predicted samples. Use `zero_division` parameter to control this behavior.\n",
      "  _warn_prf(average, modifier, msg_start, len(result))\n",
      "C:\\Users\\Admin\\anaconda3\\envs\\testenv\\lib\\site-packages\\sklearn\\metrics\\_classification.py:1471: UndefinedMetricWarning: Precision and F-score are ill-defined and being set to 0.0 due to no predicted samples. Use `zero_division` parameter to control this behavior.\n",
      "  _warn_prf(average, modifier, msg_start, len(result))\n",
      "C:\\Users\\Admin\\anaconda3\\envs\\testenv\\lib\\site-packages\\sklearn\\metrics\\_classification.py:1471: UndefinedMetricWarning: Precision and F-score are ill-defined and being set to 0.0 due to no predicted samples. Use `zero_division` parameter to control this behavior.\n",
      "  _warn_prf(average, modifier, msg_start, len(result))\n",
      "C:\\Users\\Admin\\anaconda3\\envs\\testenv\\lib\\site-packages\\sklearn\\metrics\\_classification.py:1471: UndefinedMetricWarning: Precision and F-score are ill-defined and being set to 0.0 due to no predicted samples. Use `zero_division` parameter to control this behavior.\n",
      "  _warn_prf(average, modifier, msg_start, len(result))\n",
      "C:\\Users\\Admin\\anaconda3\\envs\\testenv\\lib\\site-packages\\sklearn\\metrics\\_classification.py:1471: UndefinedMetricWarning: Precision and F-score are ill-defined and being set to 0.0 due to no predicted samples. Use `zero_division` parameter to control this behavior.\n",
      "  _warn_prf(average, modifier, msg_start, len(result))\n",
      "Some weights of RobertaModel were not initialized from the model checkpoint at roberta-large and are newly initialized: ['roberta.pooler.dense.bias', 'roberta.pooler.dense.weight']\n",
      "You should probably TRAIN this model on a down-stream task to be able to use it for predictions and inference.\n"
     ]
    },
    {
     "name": "stdout",
     "output_type": "stream",
     "text": [
      "calculating scores...\n",
      "computing bert embedding.\n"
     ]
    },
    {
     "data": {
      "application/json": {
       "ascii": false,
       "bar_format": null,
       "colour": null,
       "elapsed": 0.008000850677490234,
       "initial": 0,
       "n": 0,
       "ncols": null,
       "nrows": null,
       "postfix": null,
       "prefix": "",
       "rate": null,
       "total": 4,
       "unit": "it",
       "unit_divisor": 1000,
       "unit_scale": false
      },
      "application/vnd.jupyter.widget-view+json": {
       "model_id": "4876e41ad9d940469e808256d50f2944",
       "version_major": 2,
       "version_minor": 0
      },
      "text/plain": [
       "  0%|          | 0/4 [00:00<?, ?it/s]"
      ]
     },
     "metadata": {},
     "output_type": "display_data"
    },
    {
     "name": "stdout",
     "output_type": "stream",
     "text": [
      "computing greedy matching.\n"
     ]
    },
    {
     "data": {
      "application/json": {
       "ascii": false,
       "bar_format": null,
       "colour": null,
       "elapsed": 0.008024454116821289,
       "initial": 0,
       "n": 0,
       "ncols": null,
       "nrows": null,
       "postfix": null,
       "prefix": "",
       "rate": null,
       "total": 2,
       "unit": "it",
       "unit_divisor": 1000,
       "unit_scale": false
      },
      "application/vnd.jupyter.widget-view+json": {
       "model_id": "ebaa5a64e0984aa3b49453e4c9f5b0ec",
       "version_major": 2,
       "version_minor": 0
      },
      "text/plain": [
       "  0%|          | 0/2 [00:00<?, ?it/s]"
      ]
     },
     "metadata": {},
     "output_type": "display_data"
    },
    {
     "name": "stdout",
     "output_type": "stream",
     "text": [
      "done in 4.92 seconds, 25.38 sentences/sec\n",
      "PG Validation Metrics: {'precision': 0.48148148148148145, 'recall': 0.28888888888888886, 'f1': 0.36111111111111105, 'accuracy': 0.632}\n",
      "PG Validation results saved to data/pg_val_bertscore_results_with_labels.csv\n"
     ]
    },
    {
     "name": "stderr",
     "output_type": "stream",
     "text": [
      "Some weights of RobertaModel were not initialized from the model checkpoint at roberta-large and are newly initialized: ['roberta.pooler.dense.bias', 'roberta.pooler.dense.weight']\n",
      "You should probably TRAIN this model on a down-stream task to be able to use it for predictions and inference.\n"
     ]
    },
    {
     "name": "stdout",
     "output_type": "stream",
     "text": [
      "calculating scores...\n",
      "computing bert embedding.\n"
     ]
    },
    {
     "data": {
      "application/json": {
       "ascii": false,
       "bar_format": null,
       "colour": null,
       "elapsed": 0.007999658584594727,
       "initial": 0,
       "n": 0,
       "ncols": null,
       "nrows": null,
       "postfix": null,
       "prefix": "",
       "rate": null,
       "total": 12,
       "unit": "it",
       "unit_divisor": 1000,
       "unit_scale": false
      },
      "application/vnd.jupyter.widget-view+json": {
       "model_id": "991e3a8e20ec42bca7d9da4887651699",
       "version_major": 2,
       "version_minor": 0
      },
      "text/plain": [
       "  0%|          | 0/12 [00:00<?, ?it/s]"
      ]
     },
     "metadata": {},
     "output_type": "display_data"
    },
    {
     "name": "stdout",
     "output_type": "stream",
     "text": [
      "computing greedy matching.\n"
     ]
    },
    {
     "data": {
      "application/json": {
       "ascii": false,
       "bar_format": null,
       "colour": null,
       "elapsed": 0.006991863250732422,
       "initial": 0,
       "n": 0,
       "ncols": null,
       "nrows": null,
       "postfix": null,
       "prefix": "",
       "rate": null,
       "total": 6,
       "unit": "it",
       "unit_divisor": 1000,
       "unit_scale": false
      },
      "application/vnd.jupyter.widget-view+json": {
       "model_id": "99c8d8efe4244d3aa63f977e6c442ea6",
       "version_major": 2,
       "version_minor": 0
      },
      "text/plain": [
       "  0%|          | 0/6 [00:00<?, ?it/s]"
      ]
     },
     "metadata": {},
     "output_type": "display_data"
    },
    {
     "name": "stdout",
     "output_type": "stream",
     "text": [
      "done in 10.19 seconds, 36.81 sentences/sec\n",
      "PG Test Metrics: {'precision': 0.3880597014925373, 'recall': 0.26804123711340205, 'f1': 0.3170731707317074, 'accuracy': 0.7013333333333334}\n",
      "PG Test results saved to data/pg_test_bertscore_results_with_labels.csv\n"
     ]
    },
    {
     "name": "stderr",
     "output_type": "stream",
     "text": [
      "Some weights of RobertaModel were not initialized from the model checkpoint at roberta-large and are newly initialized: ['roberta.pooler.dense.bias', 'roberta.pooler.dense.weight']\n",
      "You should probably TRAIN this model on a down-stream task to be able to use it for predictions and inference.\n"
     ]
    },
    {
     "name": "stdout",
     "output_type": "stream",
     "text": [
      "calculating scores...\n",
      "computing bert embedding.\n"
     ]
    },
    {
     "data": {
      "application/json": {
       "ascii": false,
       "bar_format": null,
       "colour": null,
       "elapsed": 0.00599980354309082,
       "initial": 0,
       "n": 0,
       "ncols": null,
       "nrows": null,
       "postfix": null,
       "prefix": "",
       "rate": null,
       "total": 6,
       "unit": "it",
       "unit_divisor": 1000,
       "unit_scale": false
      },
      "application/vnd.jupyter.widget-view+json": {
       "model_id": "63e30ffc7951483c8a5f5d5e10cb4060",
       "version_major": 2,
       "version_minor": 0
      },
      "text/plain": [
       "  0%|          | 0/6 [00:00<?, ?it/s]"
      ]
     },
     "metadata": {},
     "output_type": "display_data"
    },
    {
     "name": "stdout",
     "output_type": "stream",
     "text": [
      "computing greedy matching.\n"
     ]
    },
    {
     "data": {
      "application/json": {
       "ascii": false,
       "bar_format": null,
       "colour": null,
       "elapsed": 0.0060040950775146484,
       "initial": 0,
       "n": 0,
       "ncols": null,
       "nrows": null,
       "postfix": null,
       "prefix": "",
       "rate": null,
       "total": 3,
       "unit": "it",
       "unit_divisor": 1000,
       "unit_scale": false
      },
      "application/vnd.jupyter.widget-view+json": {
       "model_id": "54bf087ea32047bfa9a9a76222e082f1",
       "version_major": 2,
       "version_minor": 0
      },
      "text/plain": [
       "  0%|          | 0/3 [00:00<?, ?it/s]"
      ]
     },
     "metadata": {},
     "output_type": "display_data"
    },
    {
     "name": "stdout",
     "output_type": "stream",
     "text": [
      "done in 10.08 seconds, 18.54 sentences/sec\n",
      "MT Validation Metrics: {'precision': 0.7560975609756098, 'recall': 0.38271604938271603, 'f1': 0.5081967213114754, 'accuracy': 0.679144385026738}\n",
      "MT Validation results saved to data/mt_val_bertscore_results_with_labels.csv\n"
     ]
    },
    {
     "name": "stderr",
     "output_type": "stream",
     "text": [
      "Some weights of RobertaModel were not initialized from the model checkpoint at roberta-large and are newly initialized: ['roberta.pooler.dense.bias', 'roberta.pooler.dense.weight']\n",
      "You should probably TRAIN this model on a down-stream task to be able to use it for predictions and inference.\n"
     ]
    },
    {
     "name": "stdout",
     "output_type": "stream",
     "text": [
      "calculating scores...\n",
      "computing bert embedding.\n"
     ]
    },
    {
     "data": {
      "application/json": {
       "ascii": false,
       "bar_format": null,
       "colour": null,
       "elapsed": 0.005999565124511719,
       "initial": 0,
       "n": 0,
       "ncols": null,
       "nrows": null,
       "postfix": null,
       "prefix": "",
       "rate": null,
       "total": 17,
       "unit": "it",
       "unit_divisor": 1000,
       "unit_scale": false
      },
      "application/vnd.jupyter.widget-view+json": {
       "model_id": "74d011e811f9440b927952b409b7e199",
       "version_major": 2,
       "version_minor": 0
      },
      "text/plain": [
       "  0%|          | 0/17 [00:00<?, ?it/s]"
      ]
     },
     "metadata": {},
     "output_type": "display_data"
    },
    {
     "name": "stdout",
     "output_type": "stream",
     "text": [
      "computing greedy matching.\n"
     ]
    },
    {
     "data": {
      "application/json": {
       "ascii": false,
       "bar_format": null,
       "colour": null,
       "elapsed": 0.007999420166015625,
       "initial": 0,
       "n": 0,
       "ncols": null,
       "nrows": null,
       "postfix": null,
       "prefix": "",
       "rate": null,
       "total": 9,
       "unit": "it",
       "unit_divisor": 1000,
       "unit_scale": false
      },
      "application/vnd.jupyter.widget-view+json": {
       "model_id": "02ef8842794d490ab57a871d27cb5e06",
       "version_major": 2,
       "version_minor": 0
      },
      "text/plain": [
       "  0%|          | 0/9 [00:00<?, ?it/s]"
      ]
     },
     "metadata": {},
     "output_type": "display_data"
    },
    {
     "name": "stdout",
     "output_type": "stream",
     "text": [
      "done in 21.73 seconds, 25.87 sentences/sec\n",
      "MT Test Metrics: {'precision': 0.6991869918699187, 'recall': 0.3805309734513274, 'f1': 0.49283667621776506, 'accuracy': 0.6850533807829181}\n",
      "MT Test results saved to data/mt_test_bertscore_results_with_labels.csv\n"
     ]
    },
    {
     "name": "stderr",
     "output_type": "stream",
     "text": [
      "Some weights of RobertaModel were not initialized from the model checkpoint at roberta-large and are newly initialized: ['roberta.pooler.dense.bias', 'roberta.pooler.dense.weight']\n",
      "You should probably TRAIN this model on a down-stream task to be able to use it for predictions and inference.\n"
     ]
    },
    {
     "name": "stdout",
     "output_type": "stream",
     "text": [
      "calculating scores...\n",
      "computing bert embedding.\n"
     ]
    },
    {
     "data": {
      "application/json": {
       "ascii": false,
       "bar_format": null,
       "colour": null,
       "elapsed": 0.0066602230072021484,
       "initial": 0,
       "n": 0,
       "ncols": null,
       "nrows": null,
       "postfix": null,
       "prefix": "",
       "rate": null,
       "total": 6,
       "unit": "it",
       "unit_divisor": 1000,
       "unit_scale": false
      },
      "application/vnd.jupyter.widget-view+json": {
       "model_id": "6892ec65b6ac47bd95cc422143b31e7a",
       "version_major": 2,
       "version_minor": 0
      },
      "text/plain": [
       "  0%|          | 0/6 [00:00<?, ?it/s]"
      ]
     },
     "metadata": {},
     "output_type": "display_data"
    },
    {
     "name": "stdout",
     "output_type": "stream",
     "text": [
      "computing greedy matching.\n"
     ]
    },
    {
     "data": {
      "application/json": {
       "ascii": false,
       "bar_format": null,
       "colour": null,
       "elapsed": 0.007998466491699219,
       "initial": 0,
       "n": 0,
       "ncols": null,
       "nrows": null,
       "postfix": null,
       "prefix": "",
       "rate": null,
       "total": 3,
       "unit": "it",
       "unit_divisor": 1000,
       "unit_scale": false
      },
      "application/vnd.jupyter.widget-view+json": {
       "model_id": "70af12762d144b9692913f12e88075ba",
       "version_major": 2,
       "version_minor": 0
      },
      "text/plain": [
       "  0%|          | 0/3 [00:00<?, ?it/s]"
      ]
     },
     "metadata": {},
     "output_type": "display_data"
    },
    {
     "name": "stdout",
     "output_type": "stream",
     "text": [
      "done in 11.69 seconds, 16.00 sentences/sec\n",
      "DM Validation Metrics: {'precision': 0.5743243243243243, 'recall': 0.9239130434782609, 'f1': 0.7083333333333334, 'accuracy': 0.6256684491978609}\n",
      "DM Validation results saved to data/dm_val_bertscore_results_with_labels.csv\n"
     ]
    },
    {
     "name": "stderr",
     "output_type": "stream",
     "text": [
      "Some weights of RobertaModel were not initialized from the model checkpoint at roberta-large and are newly initialized: ['roberta.pooler.dense.bias', 'roberta.pooler.dense.weight']\n",
      "You should probably TRAIN this model on a down-stream task to be able to use it for predictions and inference.\n"
     ]
    },
    {
     "name": "stdout",
     "output_type": "stream",
     "text": [
      "calculating scores...\n",
      "computing bert embedding.\n"
     ]
    },
    {
     "data": {
      "application/json": {
       "ascii": false,
       "bar_format": null,
       "colour": null,
       "elapsed": 0.007112026214599609,
       "initial": 0,
       "n": 0,
       "ncols": null,
       "nrows": null,
       "postfix": null,
       "prefix": "",
       "rate": null,
       "total": 18,
       "unit": "it",
       "unit_divisor": 1000,
       "unit_scale": false
      },
      "application/vnd.jupyter.widget-view+json": {
       "model_id": "4b36b6a4339345bcb8fe1947b07e5542",
       "version_major": 2,
       "version_minor": 0
      },
      "text/plain": [
       "  0%|          | 0/18 [00:00<?, ?it/s]"
      ]
     },
     "metadata": {},
     "output_type": "display_data"
    },
    {
     "name": "stdout",
     "output_type": "stream",
     "text": [
      "computing greedy matching.\n"
     ]
    },
    {
     "data": {
      "application/json": {
       "ascii": false,
       "bar_format": null,
       "colour": null,
       "elapsed": 0.007998466491699219,
       "initial": 0,
       "n": 0,
       "ncols": null,
       "nrows": null,
       "postfix": null,
       "prefix": "",
       "rate": null,
       "total": 9,
       "unit": "it",
       "unit_divisor": 1000,
       "unit_scale": false
      },
      "application/vnd.jupyter.widget-view+json": {
       "model_id": "3335873c1a714f68b2c75bb4010c2eb7",
       "version_major": 2,
       "version_minor": 0
      },
      "text/plain": [
       "  0%|          | 0/9 [00:00<?, ?it/s]"
      ]
     },
     "metadata": {},
     "output_type": "display_data"
    },
    {
     "name": "stdout",
     "output_type": "stream",
     "text": [
      "done in 27.89 seconds, 20.18 sentences/sec\n",
      "DM Test Metrics: {'precision': 0.5775280898876405, 'recall': 0.8923611111111112, 'f1': 0.7012278308321965, 'accuracy': 0.61101243339254}\n",
      "DM Test results saved to data/dm_test_bertscore_results_with_labels.csv\n"
     ]
    }
   ],
   "source": [
    "import pandas as pd\n",
    "from bert_score import score\n",
    "from transformers import AutoModel, AutoTokenizer\n",
    "import numpy as np\n",
    "from sklearn.metrics import precision_recall_fscore_support, accuracy_score\n",
    "\n",
    "# Load the model without safetensors\n",
    "model = AutoModel.from_pretrained(\"roberta-large\", use_safetensors=False)\n",
    "tokenizer = AutoTokenizer.from_pretrained(\"roberta-large\")\n",
    "\n",
    "# Paths to validation and test datasets\n",
    "pg_val_file_path = \"data/pg_val_label.csv\"\n",
    "pg_test_file_path = \"data/pg_test_label.csv\"\n",
    "mt_val_file_path = \"data/mt_val_label.csv\"\n",
    "mt_test_file_path = \"data/mt_test_label.csv\"\n",
    "dm_val_file_path = \"data/dm_val_label.csv\"\n",
    "dm_test_file_path = \"data/dm_test_label.csv\"\n",
    "\n",
    "# Function to load and process a dataset\n",
    "def process_dataset(file_path):\n",
    "    data = pd.read_csv(file_path)\n",
    "    \n",
    "    # Replace NaN values with empty strings and ensure all values are strings\n",
    "    data['hyp_normalized'] = data['hyp_normalized'].fillna('').astype(str)\n",
    "    if 'src_normalized' in data.columns:\n",
    "        data['src_normalized'] = data['src_normalized'].fillna('').astype(str)\n",
    "        references = data['src_normalized'].tolist()\n",
    "    else:\n",
    "        data['tgt_normalized'] = data['tgt_normalized'].fillna('').astype(str)\n",
    "        references = data['tgt_normalized'].tolist()\n",
    "    \n",
    "    # Verify that all entries in hypotheses and references are strings\n",
    "    hypotheses = data['hyp_normalized'].tolist()\n",
    "    references = [ref if isinstance(ref, str) else '' for ref in references]\n",
    "    hypotheses = [hyp if isinstance(hyp, str) else '' for hyp in hypotheses]\n",
    "\n",
    "    return data, hypotheses, references\n",
    "\n",
    "# Function to compute BERTScore and evaluate thresholds\n",
    "def process_bertscore(data, hypotheses, references, best_threshold=None):\n",
    "    # Ensure hypotheses and references are strings\n",
    "    hypotheses = [str(hyp) for hyp in hypotheses]\n",
    "    references = [str(ref) for ref in references]\n",
    "    \n",
    "    # Compute BERTScore\n",
    "    P, R, F1 = score(hypotheses, references, lang=\"en\", model_type=\"roberta-large\", verbose=True)\n",
    "    \n",
    "    # Store results in DataFrame\n",
    "    results = pd.DataFrame({\n",
    "        \"hypotheses\": hypotheses,\n",
    "        \"references\": references,\n",
    "        \"precision\": P.tolist(),\n",
    "        \"recall\": R.tolist(),\n",
    "        \"f1\": F1.tolist(),\n",
    "        \"label\": data['label']\n",
    "    })\n",
    "    \n",
    "    # Determine predictions based on the threshold\n",
    "    if best_threshold is not None:\n",
    "        results[\"is_hallucination\"] = results[\"f1\"] < best_threshold\n",
    "        \n",
    "        # Calculate precision, recall, F1-score, and accuracy\n",
    "        true_labels = results['label'].apply(lambda x: 1 if x == \"Hallucination\" else 0)\n",
    "        predictions = results[\"is_hallucination\"]\n",
    "        precision, recall, f1, _ = precision_recall_fscore_support(true_labels, predictions, average=\"binary\")\n",
    "        accuracy = accuracy_score(true_labels, predictions)\n",
    "        metrics = {\n",
    "            \"precision\": precision,\n",
    "            \"recall\": recall,\n",
    "            \"f1\": f1,\n",
    "            \"accuracy\": accuracy\n",
    "        }\n",
    "        return results, metrics\n",
    "    \n",
    "    return results\n",
    "\n",
    "# Function to evaluate thresholds\n",
    "def evaluate_thresholds(df, true_labels_col, f1_col, thresholds):\n",
    "    results = []\n",
    "    true_labels = df[true_labels_col].apply(lambda x: 1 if x == \"Hallucination\" else 0)  \n",
    "    for threshold in thresholds:\n",
    "        predictions = (df[f1_col] < threshold).astype(int)\n",
    "        precision, recall, f1, _ = precision_recall_fscore_support(true_labels, predictions, average=\"binary\")\n",
    "        accuracy = accuracy_score(true_labels, predictions)\n",
    "        results.append({\n",
    "            \"threshold\": threshold,\n",
    "            \"precision\": precision,\n",
    "            \"recall\": recall,\n",
    "            \"f1\": f1,\n",
    "            \"accuracy\": accuracy\n",
    "        })\n",
    "    return pd.DataFrame(results)\n",
    "\n",
    "# Evaluate thresholds on the validation set for PG\n",
    "val_pg_data, val_pg_hypotheses, val_pg_references = datasets[\"pg\"][\"val\"]\n",
    "val_pg_results = process_bertscore(val_pg_data, val_pg_hypotheses, val_pg_references)\n",
    "\n",
    "# Evaluate thresholds for PG\n",
    "thresholds = np.linspace(0.5, 0.9, 20)\n",
    "pg_threshold_results = evaluate_thresholds(val_pg_results, \"label\", \"f1\", thresholds)\n",
    "\n",
    "# Select the best threshold for PG\n",
    "best_pg_threshold_row = pg_threshold_results.loc[pg_threshold_results[\"f1\"].idxmax()]\n",
    "best_pg_threshold = best_pg_threshold_row[\"threshold\"]\n",
    "print(f\"Best threshold for PG based on validation F1-score: {best_pg_threshold}\")\n",
    "\n",
    "# Process and save validation and test results for all datasets\n",
    "output_paths = {}\n",
    "for dataset_name, dataset_files in datasets.items():\n",
    "    # Validation set\n",
    "    val_data, val_hypotheses, val_references = dataset_files[\"val\"]\n",
    "    val_results, val_metrics = process_bertscore(val_data, val_hypotheses, val_references, best_pg_threshold)\n",
    "    val_output_path = f\"data/{dataset_name}_val_bertscore_results_with_labels.csv\"\n",
    "    val_results.to_csv(val_output_path, index=False)\n",
    "    print(f\"{dataset_name.upper()} Validation Metrics: {val_metrics}\")\n",
    "    print(f\"{dataset_name.upper()} Validation results saved to {val_output_path}\")\n",
    "    \n",
    "    # Test set\n",
    "    test_data, test_hypotheses, test_references = dataset_files[\"test\"]\n",
    "    test_results, test_metrics = process_bertscore(test_data, test_hypotheses, test_references, best_pg_threshold)\n",
    "    test_output_path = f\"data/{dataset_name}_test_bertscore_results_with_labels.csv\"\n",
    "    test_results.to_csv(test_output_path, index=False)\n",
    "    print(f\"{dataset_name.upper()} Test Metrics: {test_metrics}\")\n",
    "    print(f\"{dataset_name.upper()} Test results saved to {test_output_path}\")\n"
   ]
  },
  {
   "cell_type": "code",
   "execution_count": 10,
   "id": "d9c88f33",
   "metadata": {},
   "outputs": [
    {
     "name": "stdout",
     "output_type": "stream",
     "text": [
      "\n",
      "=== PG Dataset Analysis ===\n",
      "                Type  Count in Label  Count in Predicted\n",
      "0      Hallucination              97                  67\n",
      "1  Not Hallucination             278                 308\n",
      "Classification Report:\n",
      "              precision    recall  f1-score   support\n",
      "\n",
      "           0       0.77      0.85      0.81       278\n",
      "           1       0.39      0.27      0.32        97\n",
      "\n",
      "    accuracy                           0.70       375\n",
      "   macro avg       0.58      0.56      0.56       375\n",
      "weighted avg       0.67      0.70      0.68       375\n",
      "\n",
      "Confusion Matrix:\n",
      "Average length of correct predictions: 26.31\n",
      "Average length of incorrect predictions: 26.71\n",
      "Precision for Hallucination: 0.39\n",
      "Recall for Hallucination: 0.27\n",
      "\n",
      "=== MT Dataset Analysis ===\n",
      "                Type  Count in Label  Count in Predicted\n",
      "0      Hallucination             226                 123\n",
      "1  Not Hallucination             336                 439\n",
      "Classification Report:\n",
      "              precision    recall  f1-score   support\n",
      "\n",
      "           0       0.68      0.89      0.77       336\n",
      "           1       0.70      0.38      0.49       226\n",
      "\n",
      "    accuracy                           0.69       562\n",
      "   macro avg       0.69      0.64      0.63       562\n",
      "weighted avg       0.69      0.69      0.66       562\n",
      "\n",
      "Confusion Matrix:\n",
      "Average length of correct predictions: 33.95\n",
      "Average length of incorrect predictions: 30.53\n",
      "Precision for Hallucination: 0.70\n",
      "Recall for Hallucination: 0.38\n",
      "\n",
      "=== DM Dataset Analysis ===\n",
      "                Type  Count in Label  Count in Predicted\n",
      "0      Hallucination             288                 445\n",
      "1  Not Hallucination             275                 118\n",
      "Classification Report:\n",
      "              precision    recall  f1-score   support\n",
      "\n",
      "           0       0.74      0.32      0.44       275\n",
      "           1       0.58      0.89      0.70       288\n",
      "\n",
      "    accuracy                           0.61       563\n",
      "   macro avg       0.66      0.60      0.57       563\n",
      "weighted avg       0.66      0.61      0.57       563\n",
      "\n",
      "Confusion Matrix:\n",
      "Average length of correct predictions: 40.13\n",
      "Average length of incorrect predictions: 36.58\n",
      "Precision for Hallucination: 0.58\n",
      "Recall for Hallucination: 0.89\n"
     ]
    },
    {
     "data": {
      "image/png": "[encoded data removed]",
      "text/plain": [
       "<Figure size 640x480 with 2 Axes>"
      ]
     },
     "metadata": {},
     "output_type": "display_data"
    },
    {
     "data": {
      "image/png": "[encoded data removed]",
      "text/plain": [
       "<Figure size 640x480 with 2 Axes>"
      ]
     },
     "metadata": {},
     "output_type": "display_data"
    },
    {
     "data": {
      "image/png": "[encoded data removed]",
      "text/plain": [
       "<Figure size 640x480 with 2 Axes>"
      ]
     },
     "metadata": {},
     "output_type": "display_data"
    }
   ],
   "source": [
    "import pandas as pd\n",
    "from sklearn.metrics import accuracy_score, classification_report, confusion_matrix, ConfusionMatrixDisplay\n",
    "\n",
    "# Load datasets\n",
    "pg_test_data = pd.read_csv(\"data/pg_test_bertscore_results_with_labels.csv\")\n",
    "mt_test_data = pd.read_csv(\"data/mt_test_bertscore_results_with_labels.csv\")\n",
    "dm_test_data = pd.read_csv(\"data/dm_test_bertscore_results_with_labels.csv\")\n",
    "\n",
    "# Ensure labels and predictions are of the same type for all datasets\n",
    "for dataset in [pg_test_data, mt_test_data, dm_test_data]:\n",
    "    dataset['label'] = dataset['label'].apply(lambda x: 1 if x == \"Hallucination\" else 0)\n",
    "    dataset['is_hallucination'] = dataset['is_hallucination'].astype(int)\n",
    "\n",
    "# Define functions for analysis\n",
    "def count_labels_predictions(data):\n",
    "    \"\"\"Count hallucinations and non-hallucinations in labels and predictions.\"\"\"\n",
    "    label_counts = data['label'].value_counts()\n",
    "    predicted_counts = data['is_hallucination'].value_counts()\n",
    "    return pd.DataFrame({\n",
    "        \"Type\": [\"Hallucination\", \"Not Hallucination\"],\n",
    "        \"Count in Label\": [label_counts.get(1, 0), label_counts.get(0, 0)],\n",
    "        \"Count in Predicted\": [predicted_counts.get(1, 0), predicted_counts.get(0, 0)]\n",
    "    })\n",
    "\n",
    "def task_wise_analysis(data, task_column=\"task\", label_column=\"label\", predicted_column=\"is_hallucination\"):\n",
    "    \"\"\"Perform task-wise analysis.\"\"\"\n",
    "    results = {\n",
    "        \"Task Type\": [],\n",
    "        \"Accuracy\": [],\n",
    "        \"Precision\": [],\n",
    "        \"Recall\": [],\n",
    "        \"F1-Score\": []\n",
    "    }\n",
    "\n",
    "    grouped = data.groupby(task_column) if task_column in data.columns else [(\"All\", data)]\n",
    "\n",
    "    for task, group in grouped:\n",
    "        accuracy = accuracy_score(group[label_column], group[predicted_column])\n",
    "        report = classification_report(group[label_column], group[predicted_column], output_dict=True)\n",
    "        precision = report[\"weighted avg\"][\"precision\"]\n",
    "        recall = report[\"weighted avg\"][\"recall\"]\n",
    "        f1_score = report[\"weighted avg\"][\"f1-score\"]\n",
    "\n",
    "        results[\"Task Type\"].append(task)\n",
    "        results[\"Accuracy\"].append(accuracy)\n",
    "        results[\"Precision\"].append(precision)\n",
    "        results[\"Recall\"].append(recall)\n",
    "        results[\"F1-Score\"].append(f1_score)\n",
    "\n",
    "    return pd.DataFrame(results)\n",
    "\n",
    "def evaluate_predictions(data, label_column=\"label\", predicted_column=\"is_hallucination\", text_column=\"hypotheses\"):\n",
    "    \"\"\"Evaluate predictions with classification metrics and confusion matrix.\"\"\"\n",
    "    results = {}\n",
    "\n",
    "    # Classification report\n",
    "    print(\"Classification Report:\")\n",
    "    report = classification_report(data[label_column], data[predicted_column], output_dict=True)\n",
    "    results[\"classification_report\"] = report\n",
    "    print(classification_report(data[label_column], data[predicted_column]))\n",
    "\n",
    "    # Confusion matrix\n",
    "    print(\"Confusion Matrix:\")\n",
    "    cm = confusion_matrix(data[label_column], data[predicted_column])\n",
    "    disp = ConfusionMatrixDisplay(confusion_matrix=cm, display_labels=[\"Hallucination\", \"Not Hallucination\"])\n",
    "    disp.plot(cmap=\"Blues\")\n",
    "    results[\"confusion_matrix\"] = cm\n",
    "\n",
    "    # Average text length\n",
    "    data[\"text_length\"] = data[text_column].apply(len)\n",
    "    avg_length_correct = data[data[label_column] == data[predicted_column]][\"text_length\"].mean()\n",
    "    avg_length_incorrect = data[data[label_column] != data[predicted_column]][\"text_length\"].mean()\n",
    "    results[\"average_length_correct\"] = avg_length_correct\n",
    "    results[\"average_length_incorrect\"] = avg_length_incorrect\n",
    "    print(f\"Average length of correct predictions: {avg_length_correct:.2f}\")\n",
    "    print(f\"Average length of incorrect predictions: {avg_length_incorrect:.2f}\")\n",
    "\n",
    "    # Precision and recall\n",
    "    precision = report[\"1\"][\"precision\"]\n",
    "    recall = report[\"1\"][\"recall\"]\n",
    "    results[\"precision\"] = precision\n",
    "    results[\"recall\"] = recall\n",
    "    print(f\"Precision for Hallucination: {precision:.2f}\")\n",
    "    print(f\"Recall for Hallucination: {recall:.2f}\")\n",
    "\n",
    "    return results\n",
    "\n",
    "# Analyze PG, MT, and DM datasets\n",
    "datasets = {\n",
    "    \"pg\": pg_test_data,\n",
    "    \"mt\": mt_test_data,\n",
    "    \"dm\": dm_test_data\n",
    "}\n",
    "\n",
    "for dataset_name, dataset in datasets.items():\n",
    "    print(f\"\\n=== {dataset_name.upper()} Dataset Analysis ===\")\n",
    "    \n",
    "    # Count labels and predictions\n",
    "    label_pred_counts = count_labels_predictions(dataset)\n",
    "    print(label_pred_counts)\n",
    "\n",
    "    # Task-wise analysis (if applicable)\n",
    "    if \"task\" in dataset.columns:\n",
    "        task_results = task_wise_analysis(dataset)\n",
    "        print(task_results)\n",
    "\n",
    "    # Evaluate predictions\n",
    "    evaluate_predictions(dataset, label_column=\"label\", predicted_column=\"is_hallucination\", text_column=\"hypotheses\")\n"
   ]
  },
  {
   "cell_type": "code",
   "execution_count": null,
   "id": "b3f1f40e",
   "metadata": {},
   "outputs": [],
   "source": []
  }
 ],
 "metadata": {
  "kernelspec": {
   "display_name": "Python (testenv)",
   "language": "python",
   "name": "testenv"
  },
  "language_info": {
   "codemirror_mode": {
    "name": "ipython",
    "version": 3
   },
   "file_extension": ".py",
   "mimetype": "text/x-python",
   "name": "python",
   "nbconvert_exporter": "python",
   "pygments_lexer": "ipython3",
   "version": "3.8.18"
  }
 },
 "nbformat": 4,
 "nbformat_minor": 5
}
